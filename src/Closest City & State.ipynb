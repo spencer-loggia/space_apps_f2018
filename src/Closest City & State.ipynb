{
 "cells": [
  {
   "cell_type": "code",
   "execution_count": 3,
   "metadata": {},
   "outputs": [],
   "source": [
    "import pandas as pd\n",
    "import numpy as np\n",
    "import pickle\n",
    "from sklearn import neighbors\n",
    "from sqlalchemy import create_engine\n",
    "\n",
    "# read in data from excel sheets\n",
    "cities_df = pd.read_excel('us_cities.xlsx')\n",
    "states_df = pd.read_excel('us_states.xlsx')\n",
    "\n",
    "# clean up the parentheses\n",
    "cities_df.iloc[:,4] = [float(x[:-1]) for x in cities_df.iloc[:,4]]\n",
    "states_df.iloc[:,0] = [int(x[1:]) for x in states_df.iloc[:,0]]\n",
    "states_df.iloc[:,2] = [x[:-1] for x in states_df.iloc[:,2]]\n",
    "\n",
    "city_pts = cities_df.as_matrix(columns=cities_df.columns[3:])\n",
    "\n",
    "tree = neighbors.KDTree(city_pts, leaf_size=2)    \n",
    "\n",
    "saved_tree = pickle.dumps(tree)"
   ]
  },
  {
   "cell_type": "code",
   "execution_count": 4,
   "metadata": {},
   "outputs": [],
   "source": [
    "tree_copy = pickle.loads(saved_tree)          "
   ]
  },
  {
   "cell_type": "code",
   "execution_count": 5,
   "metadata": {},
   "outputs": [],
   "source": [
    "latitude = 42.92\n",
    "longitude = -123.299\n",
    "\n",
    "dist, ind = tree_copy.query([[latitude, longitude]])   \n",
    "\n",
    "state_id = cities_df.iloc[ind[0][0]][0]\n",
    "state = states_df.iloc[state_id - 1,2]"
   ]
  },
  {
   "cell_type": "code",
   "execution_count": 6,
   "metadata": {},
   "outputs": [],
   "source": [
    "def getState(latitude, longitude):\n",
    "    \"\"\"\n",
    "    Returns the state given a latitude and longitude.\n",
    "    Written for SpaceApps Challenge 2018.\n",
    "   \n",
    "    We didn't want to pay $8 per 1000 queries to Google's API.\n",
    "    \"\"\"\n",
    "    tree_copy = pickle.loads(saved_tree)    \n",
    "    \n",
    "    dist, ind = tree_copy.query([[latitude, longitude]])   \n",
    "    \n",
    "    state_id = cities_df.iloc[ind[0][0]][0]\n",
    "    state = states_df.iloc[state_id - 1,2]\n",
    "    \n",
    "    return state"
   ]
  },
  {
   "cell_type": "code",
   "execution_count": 8,
   "metadata": {},
   "outputs": [
    {
     "data": {
      "text/plain": [
       "\"'Oregon'\""
      ]
     },
     "execution_count": 8,
     "metadata": {},
     "output_type": "execute_result"
    }
   ],
   "source": [
    "state"
   ]
  },
  {
   "cell_type": "code",
   "execution_count": null,
   "metadata": {},
   "outputs": [],
   "source": []
  }
 ],
 "metadata": {
  "kernelspec": {
   "display_name": "Python 3",
   "language": "python",
   "name": "python3"
  },
  "language_info": {
   "codemirror_mode": {
    "name": "ipython",
    "version": 3
   },
   "file_extension": ".py",
   "mimetype": "text/x-python",
   "name": "python",
   "nbconvert_exporter": "python",
   "pygments_lexer": "ipython3",
   "version": "3.7.0"
  }
 },
 "nbformat": 4,
 "nbformat_minor": 2
}
