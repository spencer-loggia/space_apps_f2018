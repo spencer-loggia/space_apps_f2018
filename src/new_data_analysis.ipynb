{
 "cells": [
  {
   "cell_type": "code",
   "execution_count": 80,
   "metadata": {
    "collapsed": true
   },
   "outputs": [],
   "source": [
    "import numpy as np\n",
    "import pandas as pd\n",
    "import matplotlib.pyplot as plt\n",
    "from datetime import datetime\n",
    "from dateutil.parser import parse"
   ]
  },
  {
   "cell_type": "markdown",
   "metadata": {},
   "source": [
    "# BAROMETRIC DATA"
   ]
  },
  {
   "cell_type": "code",
   "execution_count": null,
   "metadata": {
    "collapsed": true
   },
   "outputs": [],
   "source": []
  },
  {
   "cell_type": "code",
   "execution_count": 61,
   "metadata": {},
   "outputs": [],
   "source": [
    "file = 'datasets/barometric.csv'\n",
    "data = pd.read_csv(file).drop(['org_name', ' barometric pressure noons:measured at', ' site_name', ' elevation', 'barometric pressure noons:solar measured at', 'barometric pressure noons:solar noon at', 'barometric pressure noons:pressure method', 'barometric pressure noons:comments'], axis=1)"
   ]
  },
  {
   "cell_type": "code",
   "execution_count": 63,
   "metadata": {},
   "outputs": [
    {
     "data": {
      "text/plain": [
       " latitude                                       0\n",
       " longitude                                      0\n",
       " measured_on                                    0\n",
       "barometric pressure noons:sea level pressure    0\n",
       "barometric pressure noons:pressure              0\n",
       "dtype: int64"
      ]
     },
     "execution_count": 63,
     "metadata": {},
     "output_type": "execute_result"
    }
   ],
   "source": [
    "data.isnull().sum(axis=0)"
   ]
  },
  {
   "cell_type": "code",
   "execution_count": 66,
   "metadata": {},
   "outputs": [],
   "source": [
    "#deleting null files\n",
    "mask = np.logical_not(np.logical_or(data[data.columns[3]].values == 'null', data[data.columns[4]].values == 'null'))"
   ]
  },
  {
   "cell_type": "code",
   "execution_count": 108,
   "metadata": {},
   "outputs": [
    {
     "name": "stderr",
     "output_type": "stream",
     "text": [
      "/Users/kaushiksrini/anaconda3/lib/python3.6/site-packages/ipykernel_launcher.py:2: SettingWithCopyWarning: \n",
      "A value is trying to be set on a copy of a slice from a DataFrame.\n",
      "Try using .loc[row_indexer,col_indexer] = value instead\n",
      "\n",
      "See the caveats in the documentation: http://pandas.pydata.org/pandas-docs/stable/indexing.html#indexing-view-versus-copy\n",
      "  \n",
      "/Users/kaushiksrini/anaconda3/lib/python3.6/site-packages/ipykernel_launcher.py:3: SettingWithCopyWarning: \n",
      "A value is trying to be set on a copy of a slice from a DataFrame.\n",
      "Try using .loc[row_indexer,col_indexer] = value instead\n",
      "\n",
      "See the caveats in the documentation: http://pandas.pydata.org/pandas-docs/stable/indexing.html#indexing-view-versus-copy\n",
      "  This is separate from the ipykernel package so we can avoid doing imports until\n",
      "/Users/kaushiksrini/anaconda3/lib/python3.6/site-packages/ipykernel_launcher.py:4: SettingWithCopyWarning: \n",
      "A value is trying to be set on a copy of a slice from a DataFrame.\n",
      "Try using .loc[row_indexer,col_indexer] = value instead\n",
      "\n",
      "See the caveats in the documentation: http://pandas.pydata.org/pandas-docs/stable/indexing.html#indexing-view-versus-copy\n",
      "  after removing the cwd from sys.path.\n"
     ]
    }
   ],
   "source": [
    "baro_data = data[mask]\n",
    "baro_data[' measured_on'] = pd.to_datetime(baro_data[' measured_on']) \n",
    "baro_data[baro_data.columns[3]] = baro_data[baro_data.columns[3]].astype(float)\n",
    "baro_data[baro_data.columns[4]] = baro_data[baro_data.columns[4]].astype(float)"
   ]
  },
  {
   "cell_type": "code",
   "execution_count": 109,
   "metadata": {},
   "outputs": [
    {
     "data": {
      "text/html": [
       "<div>\n",
       "<style>\n",
       "    .dataframe thead tr:only-child th {\n",
       "        text-align: right;\n",
       "    }\n",
       "\n",
       "    .dataframe thead th {\n",
       "        text-align: left;\n",
       "    }\n",
       "\n",
       "    .dataframe tbody tr th {\n",
       "        vertical-align: top;\n",
       "    }\n",
       "</style>\n",
       "<table border=\"1\" class=\"dataframe\">\n",
       "  <thead>\n",
       "    <tr style=\"text-align: right;\">\n",
       "      <th></th>\n",
       "      <th>latitude</th>\n",
       "      <th>longitude</th>\n",
       "      <th>measured_on</th>\n",
       "      <th>barometric pressure noons:sea level pressure</th>\n",
       "      <th>barometric pressure noons:pressure</th>\n",
       "    </tr>\n",
       "  </thead>\n",
       "  <tbody>\n",
       "    <tr>\n",
       "      <th>0</th>\n",
       "      <td>32.37862</td>\n",
       "      <td>-86.29727</td>\n",
       "      <td>2016-10-14</td>\n",
       "      <td>1022.0</td>\n",
       "      <td>1013.5</td>\n",
       "    </tr>\n",
       "    <tr>\n",
       "      <th>1</th>\n",
       "      <td>42.92170</td>\n",
       "      <td>-123.29935</td>\n",
       "      <td>2017-03-09</td>\n",
       "      <td>1056.0</td>\n",
       "      <td>1019.3</td>\n",
       "    </tr>\n",
       "    <tr>\n",
       "      <th>2</th>\n",
       "      <td>42.92170</td>\n",
       "      <td>-123.29935</td>\n",
       "      <td>2017-03-16</td>\n",
       "      <td>1061.2</td>\n",
       "      <td>1024.4</td>\n",
       "    </tr>\n",
       "    <tr>\n",
       "      <th>3</th>\n",
       "      <td>42.92170</td>\n",
       "      <td>-123.29935</td>\n",
       "      <td>2017-03-20</td>\n",
       "      <td>1047.3</td>\n",
       "      <td>1010.8</td>\n",
       "    </tr>\n",
       "    <tr>\n",
       "      <th>4</th>\n",
       "      <td>42.92170</td>\n",
       "      <td>-123.29935</td>\n",
       "      <td>2017-04-27</td>\n",
       "      <td>1058.8</td>\n",
       "      <td>1022.0</td>\n",
       "    </tr>\n",
       "  </tbody>\n",
       "</table>\n",
       "</div>"
      ],
      "text/plain": [
       "    latitude   longitude  measured_on  \\\n",
       "0   32.37862   -86.29727   2016-10-14   \n",
       "1   42.92170  -123.29935   2017-03-09   \n",
       "2   42.92170  -123.29935   2017-03-16   \n",
       "3   42.92170  -123.29935   2017-03-20   \n",
       "4   42.92170  -123.29935   2017-04-27   \n",
       "\n",
       "   barometric pressure noons:sea level pressure  \\\n",
       "0                                        1022.0   \n",
       "1                                        1056.0   \n",
       "2                                        1061.2   \n",
       "3                                        1047.3   \n",
       "4                                        1058.8   \n",
       "\n",
       "   barometric pressure noons:pressure  \n",
       "0                              1013.5  \n",
       "1                              1019.3  \n",
       "2                              1024.4  \n",
       "3                              1010.8  \n",
       "4                              1022.0  "
      ]
     },
     "execution_count": 109,
     "metadata": {},
     "output_type": "execute_result"
    }
   ],
   "source": [
    "baro_data.head()"
   ]
  },
  {
   "cell_type": "code",
   "execution_count": 81,
   "metadata": {},
   "outputs": [],
   "source": [
    "baro_data.to_csv('baro_data.csv')"
   ]
  },
  {
   "cell_type": "markdown",
   "metadata": {},
   "source": [
    "# Air Temperature"
   ]
  },
  {
   "cell_type": "code",
   "execution_count": 110,
   "metadata": {},
   "outputs": [
    {
     "name": "stderr",
     "output_type": "stream",
     "text": [
      "/Users/kaushiksrini/anaconda3/lib/python3.6/site-packages/IPython/core/interactiveshell.py:2698: DtypeWarning: Columns (8,10) have mixed types. Specify dtype option on import or set low_memory=False.\n",
      "  interactivity=interactivity, compiler=compiler, result=result)\n"
     ]
    }
   ],
   "source": [
    "file_airtemp = 'datasets/air_temp.csv'\n",
    "data_at = pd.read_csv(file_airtemp, skiprows=(5))\n",
    "data_at_2 = data_at.drop([data_at.columns[10], data_at.columns[9], '2017-08-21 12:07:00', '16REA668148', 'Alabama State Department Of Education', '135.2', '2017-08-21 17:56:00'], axis=1)"
   ]
  },
  {
   "cell_type": "code",
   "execution_count": 116,
   "metadata": {},
   "outputs": [],
   "source": [
    "data_at_2.columns = ['latitude', 'longitude', 'measured_on', 'air_temp']"
   ]
  },
  {
   "cell_type": "code",
   "execution_count": 122,
   "metadata": {},
   "outputs": [],
   "source": [
    "#sum(data_at_2[data_at_2.columns[3]].values == 'null')"
   ]
  },
  {
   "cell_type": "code",
   "execution_count": 126,
   "metadata": {},
   "outputs": [
    {
     "name": "stderr",
     "output_type": "stream",
     "text": [
      "/Users/kaushiksrini/anaconda3/lib/python3.6/site-packages/ipykernel_launcher.py:2: SettingWithCopyWarning: \n",
      "A value is trying to be set on a copy of a slice from a DataFrame.\n",
      "Try using .loc[row_indexer,col_indexer] = value instead\n",
      "\n",
      "See the caveats in the documentation: http://pandas.pydata.org/pandas-docs/stable/indexing.html#indexing-view-versus-copy\n",
      "  \n",
      "/Users/kaushiksrini/anaconda3/lib/python3.6/site-packages/ipykernel_launcher.py:3: SettingWithCopyWarning: \n",
      "A value is trying to be set on a copy of a slice from a DataFrame.\n",
      "Try using .loc[row_indexer,col_indexer] = value instead\n",
      "\n",
      "See the caveats in the documentation: http://pandas.pydata.org/pandas-docs/stable/indexing.html#indexing-view-versus-copy\n",
      "  This is separate from the ipykernel package so we can avoid doing imports until\n"
     ]
    }
   ],
   "source": [
    "air_temp = data_at_2[np.logical_not(data_at_2[data_at_2.columns[3]].values == 'null')]\n",
    "air_temp['measured_on'] = pd.to_datetime(air_temp['measured_on']) \n",
    "air_temp['air_temp'] = air_temp['air_temp'].astype(float)"
   ]
  },
  {
   "cell_type": "code",
   "execution_count": 129,
   "metadata": {},
   "outputs": [],
   "source": [
    "air_temp.to_csv('air_temp_data.csv')"
   ]
  },
  {
   "cell_type": "markdown",
   "metadata": {},
   "source": [
    "# Humidity"
   ]
  },
  {
   "cell_type": "code",
   "execution_count": 133,
   "metadata": {},
   "outputs": [],
   "source": [
    "file_hum = 'datasets/humidities.csv'\n",
    "data_hum = pd.read_csv(file_hum).drop(['org_name', ' site_name', ' elevation', ' humidities:measured at', 'humidities:solar measured at', 'humidities:solar noon at', 'humidities:comments'], axis = 1)"
   ]
  },
  {
   "cell_type": "code",
   "execution_count": 149,
   "metadata": {},
   "outputs": [],
   "source": [
    "data_hum_2 = data_hum[np.logical_not(data_hum[data_hum.columns[4]].values == 'null')]"
   ]
  },
  {
   "cell_type": "code",
   "execution_count": null,
   "metadata": {
    "collapsed": true
   },
   "outputs": [],
   "source": []
  },
  {
   "cell_type": "code",
   "execution_count": 152,
   "metadata": {},
   "outputs": [
    {
     "name": "stderr",
     "output_type": "stream",
     "text": [
      "/Users/kaushiksrini/anaconda3/lib/python3.6/site-packages/ipykernel_launcher.py:1: SettingWithCopyWarning: \n",
      "A value is trying to be set on a copy of a slice from a DataFrame.\n",
      "Try using .loc[row_indexer,col_indexer] = value instead\n",
      "\n",
      "See the caveats in the documentation: http://pandas.pydata.org/pandas-docs/stable/indexing.html#indexing-view-versus-copy\n",
      "  \"\"\"Entry point for launching an IPython kernel.\n",
      "/Users/kaushiksrini/anaconda3/lib/python3.6/site-packages/ipykernel_launcher.py:2: SettingWithCopyWarning: \n",
      "A value is trying to be set on a copy of a slice from a DataFrame.\n",
      "Try using .loc[row_indexer,col_indexer] = value instead\n",
      "\n",
      "See the caveats in the documentation: http://pandas.pydata.org/pandas-docs/stable/indexing.html#indexing-view-versus-copy\n",
      "  \n",
      "/Users/kaushiksrini/anaconda3/lib/python3.6/site-packages/ipykernel_launcher.py:3: SettingWithCopyWarning: \n",
      "A value is trying to be set on a copy of a slice from a DataFrame.\n",
      "Try using .loc[row_indexer,col_indexer] = value instead\n",
      "\n",
      "See the caveats in the documentation: http://pandas.pydata.org/pandas-docs/stable/indexing.html#indexing-view-versus-copy\n",
      "  This is separate from the ipykernel package so we can avoid doing imports until\n"
     ]
    }
   ],
   "source": [
    "data_hum_2[data_hum_2.columns[3]] = data_hum_2[data_hum_2.columns[3]].astype(float)\n",
    "data_hum_2[data_hum_2.columns[4]] = data_hum_2[data_hum_2.columns[4]].astype(float)\n",
    "data_hum_2[data_hum_2.columns[2]] = pd.to_datetime(data_hum_2[data_hum_2.columns[2]]) "
   ]
  },
  {
   "cell_type": "code",
   "execution_count": 154,
   "metadata": {},
   "outputs": [
    {
     "name": "stdout",
     "output_type": "stream",
     "text": [
      "<class 'pandas.core.frame.DataFrame'>\n",
      "Int64Index: 34977 entries, 0 to 35032\n",
      "Data columns (total 5 columns):\n",
      " latitude                           34977 non-null float64\n",
      " longitude                          34977 non-null float64\n",
      " measured_on                        34977 non-null datetime64[ns]\n",
      "humidities:relative humidity (%)    34977 non-null float64\n",
      "humidities:dewpoint                 34977 non-null float64\n",
      "dtypes: datetime64[ns](1), float64(4)\n",
      "memory usage: 1.6 MB\n"
     ]
    }
   ],
   "source": [
    "data_hum_2.info()"
   ]
  },
  {
   "cell_type": "code",
   "execution_count": 156,
   "metadata": {
    "collapsed": true
   },
   "outputs": [],
   "source": [
    "data_hum_2.to_csv('humidity_data.csv')"
   ]
  },
  {
   "cell_type": "code",
   "execution_count": null,
   "metadata": {
    "collapsed": true
   },
   "outputs": [],
   "source": []
  },
  {
   "cell_type": "code",
   "execution_count": null,
   "metadata": {
    "collapsed": true
   },
   "outputs": [],
   "source": []
  }
 ],
 "metadata": {
  "kernelspec": {
   "display_name": "Python 3",
   "language": "python",
   "name": "python3"
  },
  "language_info": {
   "codemirror_mode": {
    "name": "ipython",
    "version": 3
   },
   "file_extension": ".py",
   "mimetype": "text/x-python",
   "name": "python",
   "nbconvert_exporter": "python",
   "pygments_lexer": "ipython3",
   "version": "3.6.3"
  }
 },
 "nbformat": 4,
 "nbformat_minor": 2
}
