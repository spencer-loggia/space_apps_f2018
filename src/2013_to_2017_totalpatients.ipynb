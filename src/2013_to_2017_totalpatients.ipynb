{
 "cells": [
  {
   "cell_type": "code",
   "execution_count": 4,
   "metadata": {},
   "outputs": [],
   "source": [
    "import numpy as np\n",
    "import pandas as pd\n",
    "#import matplotlib.pyplot as plt\n"
   ]
  },
  {
   "cell_type": "code",
   "execution_count": 5,
   "metadata": {},
   "outputs": [],
   "source": [
    "file = 'for_udit.txt'\n",
    "data = pd.read_csv(file, skiprows = 1, index_col = False)"
   ]
  },
  {
   "cell_type": "code",
   "execution_count": 6,
   "metadata": {},
   "outputs": [],
   "source": [
    "data.columns = ['REGION', 'YEAR', 'WEEK', 'TOTAL PATIENTS']"
   ]
  },
  {
   "cell_type": "code",
   "execution_count": 7,
   "metadata": {},
   "outputs": [],
   "source": [
    "data_2013 = data[data['YEAR'] == 2013]"
   ]
  },
  {
   "cell_type": "code",
   "execution_count": 8,
   "metadata": {},
   "outputs": [
    {
     "name": "stderr",
     "output_type": "stream",
     "text": [
      "/usr/local/lib/python3.7/site-packages/ipykernel_launcher.py:1: SettingWithCopyWarning: \n",
      "A value is trying to be set on a copy of a slice from a DataFrame.\n",
      "Try using .loc[row_indexer,col_indexer] = value instead\n",
      "\n",
      "See the caveats in the documentation: http://pandas.pydata.org/pandas-docs/stable/indexing.html#indexing-view-versus-copy\n",
      "  \"\"\"Entry point for launching an IPython kernel.\n"
     ]
    }
   ],
   "source": [
    "data_2013['TOTAL PATIENTS'] = data_2013['TOTAL PATIENTS'].astype(int)"
   ]
  },
  {
   "cell_type": "code",
   "execution_count": 9,
   "metadata": {},
   "outputs": [
    {
     "name": "stdout",
     "output_type": "stream",
     "text": [
      "<class 'pandas.core.frame.DataFrame'>\n",
      "Int64Index: 2717 entries, 6030 to 8746\n",
      "Data columns (total 4 columns):\n",
      "REGION            2717 non-null object\n",
      "YEAR              2717 non-null int64\n",
      "WEEK              2717 non-null int64\n",
      "TOTAL PATIENTS    2717 non-null int64\n",
      "dtypes: int64(3), object(1)\n",
      "memory usage: 106.1+ KB\n"
     ]
    }
   ],
   "source": [
    "data_2013.info()"
   ]
  },
  {
   "cell_type": "code",
   "execution_count": 10,
   "metadata": {},
   "outputs": [],
   "source": [
    "i = 1\n",
    "month1_2013 = data_2013[np.logical_and(data_2013['WEEK'] >= (4 * i - 3), data_2013['WEEK'] <= (4 * i))].groupby(['REGION']).sum().drop(['YEAR', 'WEEK'], axis=1).assign(MONTH=i)\n"
   ]
  },
  {
   "cell_type": "code",
   "execution_count": 11,
   "metadata": {},
   "outputs": [],
   "source": [
    "i = 2\n",
    "month2_2013 = data_2013[np.logical_and(data_2013['WEEK'] >= (4 * i - 3), data_2013['WEEK'] <= (4 * i))].groupby(['REGION']).sum().drop(['YEAR', 'WEEK'], axis=1).assign(MONTH=i)\n",
    "\n"
   ]
  },
  {
   "cell_type": "code",
   "execution_count": 12,
   "metadata": {},
   "outputs": [],
   "source": [
    "i = 3\n",
    "month3_2013 = data_2013[np.logical_and(data_2013['WEEK'] >= (4 * i - 3), data_2013['WEEK'] <= (4 * i))].groupby(['REGION']).sum().drop(['YEAR', 'WEEK'], axis=1).assign(MONTH=i)\n",
    "\n"
   ]
  },
  {
   "cell_type": "code",
   "execution_count": 13,
   "metadata": {},
   "outputs": [],
   "source": [
    "i = 4\n",
    "month4_2013 = data_2013[np.logical_and(data_2013['WEEK'] >= (4 * i - 3), data_2013['WEEK'] <= (4 * i))].groupby(['REGION']).sum().drop(['YEAR', 'WEEK'], axis=1).assign(MONTH=i)\n",
    "\n"
   ]
  },
  {
   "cell_type": "code",
   "execution_count": 14,
   "metadata": {},
   "outputs": [],
   "source": [
    "i = 5\n",
    "month5_2013 = data_2013[np.logical_and(data_2013['WEEK'] >= (4 * i - 3), data_2013['WEEK'] <= (4 * i))].groupby(['REGION']).sum().drop(['YEAR', 'WEEK'], axis=1).assign(MONTH=i)\n"
   ]
  },
  {
   "cell_type": "code",
   "execution_count": 15,
   "metadata": {},
   "outputs": [],
   "source": [
    "i = 6\n",
    "month6_2013 = data_2013[np.logical_and(data_2013['WEEK'] >= (4 * i - 3), data_2013['WEEK'] <= (4 * i))].groupby(['REGION']).sum().drop(['YEAR', 'WEEK'], axis=1).assign(MONTH=i)\n"
   ]
  },
  {
   "cell_type": "code",
   "execution_count": 16,
   "metadata": {},
   "outputs": [],
   "source": [
    "i = 7\n",
    "month7_2013 = data_2013[np.logical_and(data_2013['WEEK'] >= (4 * i - 3), data_2013['WEEK'] <= (4 * i))].groupby(['REGION']).sum().drop(['YEAR', 'WEEK'], axis=1).assign(MONTH=i)\n"
   ]
  },
  {
   "cell_type": "code",
   "execution_count": 17,
   "metadata": {},
   "outputs": [],
   "source": [
    "i = 8\n",
    "month8_2013 = data_2013[np.logical_and(data_2013['WEEK'] >= (4 * i - 3), data_2013['WEEK'] <= (4 * i))].groupby(['REGION']).sum().drop(['YEAR', 'WEEK'], axis=1).assign(MONTH=i)\n"
   ]
  },
  {
   "cell_type": "code",
   "execution_count": 18,
   "metadata": {},
   "outputs": [],
   "source": [
    "i = 9\n",
    "month9_2013 = data_2013[np.logical_and(data_2013['WEEK'] >= (4 * i - 3), data_2013['WEEK'] <= (4 * i))].groupby(['REGION']).sum().drop(['YEAR', 'WEEK'], axis=1).assign(MONTH=i)\n"
   ]
  },
  {
   "cell_type": "code",
   "execution_count": 19,
   "metadata": {},
   "outputs": [],
   "source": [
    "i = 10\n",
    "month10_2013 = data_2013[np.logical_and(data_2013['WEEK'] >= (4 * i - 3), data_2013['WEEK'] <= (4 * i))].groupby(['REGION']).sum().drop(['YEAR', 'WEEK'], axis=1).assign(MONTH=i)\n"
   ]
  },
  {
   "cell_type": "code",
   "execution_count": 20,
   "metadata": {},
   "outputs": [],
   "source": [
    "i = 11\n",
    "month11_2013 = data_2013[np.logical_and(data_2013['WEEK'] >= (4 * i - 3), data_2013['WEEK'] <= (4 * i))].groupby(['REGION']).sum().drop(['YEAR', 'WEEK'], axis=1).assign(MONTH=i)\n",
    "\n"
   ]
  },
  {
   "cell_type": "code",
   "execution_count": 21,
   "metadata": {},
   "outputs": [],
   "source": [
    "i = 12\n",
    "month12_2013 = data_2013[np.logical_and(data_2013['WEEK'] >= (4 * i - 3), data_2013['WEEK'] <= (4 * i))].groupby(['REGION']).sum().drop(['YEAR', 'WEEK'], axis=1).assign(MONTH=i)\n",
    "\n"
   ]
  },
  {
   "cell_type": "code",
   "execution_count": 22,
   "metadata": {},
   "outputs": [],
   "source": [
    "frames = [month1_2013, month2_2013, month3_2013, month4_2013, month5_2013, month6_2013, month7_2013, month8_2013, month9_2013, month10_2013, month11_2013, month12_2013]\n",
    "result = pd.concat(frames)\n",
    "result.reset_index(level=0, inplace=True)"
   ]
  },
  {
   "cell_type": "code",
   "execution_count": 23,
   "metadata": {},
   "outputs": [],
   "source": [
    "result2013 = result"
   ]
  },
  {
   "cell_type": "code",
   "execution_count": 24,
   "metadata": {},
   "outputs": [],
   "source": [
    "data_2014 = data[data['YEAR'] == 2014]"
   ]
  },
  {
   "cell_type": "code",
   "execution_count": 25,
   "metadata": {},
   "outputs": [
    {
     "name": "stderr",
     "output_type": "stream",
     "text": [
      "/usr/local/lib/python3.7/site-packages/ipykernel_launcher.py:1: SettingWithCopyWarning: \n",
      "A value is trying to be set on a copy of a slice from a DataFrame.\n",
      "Try using .loc[row_indexer,col_indexer] = value instead\n",
      "\n",
      "See the caveats in the documentation: http://pandas.pydata.org/pandas-docs/stable/indexing.html#indexing-view-versus-copy\n",
      "  \"\"\"Entry point for launching an IPython kernel.\n"
     ]
    }
   ],
   "source": [
    "data_2014['TOTAL PATIENTS'] = data_2014['TOTAL PATIENTS'].astype(int)"
   ]
  },
  {
   "cell_type": "code",
   "execution_count": 26,
   "metadata": {},
   "outputs": [
    {
     "name": "stdout",
     "output_type": "stream",
     "text": [
      "<class 'pandas.core.frame.DataFrame'>\n",
      "Int64Index: 2809 entries, 8747 to 11555\n",
      "Data columns (total 4 columns):\n",
      "REGION            2809 non-null object\n",
      "YEAR              2809 non-null int64\n",
      "WEEK              2809 non-null int64\n",
      "TOTAL PATIENTS    2809 non-null int64\n",
      "dtypes: int64(3), object(1)\n",
      "memory usage: 109.7+ KB\n"
     ]
    }
   ],
   "source": [
    "data_2014.info()"
   ]
  },
  {
   "cell_type": "code",
   "execution_count": 27,
   "metadata": {},
   "outputs": [],
   "source": [
    "i = 1\n",
    "month1_2014 = data_2014[np.logical_and(data_2014['WEEK'] >= (4 * i - 3), data_2014['WEEK'] <= (4 * i))].groupby(['REGION']).sum().drop(['YEAR', 'WEEK'], axis=1).assign(MONTH=i)\n",
    "\n",
    "i = 2\n",
    "month2_2014 = data_2014[np.logical_and(data_2014['WEEK'] >= (4 * i - 3), data_2014['WEEK'] <= (4 * i))].groupby(['REGION']).sum().drop(['YEAR', 'WEEK'], axis=1).assign(MONTH=i)\n",
    "\n",
    "i = 3\n",
    "month3_2014 = data_2014[np.logical_and(data_2014['WEEK'] >= (4 * i - 3), data_2014['WEEK'] <= (4 * i))].groupby(['REGION']).sum().drop(['YEAR', 'WEEK'], axis=1).assign(MONTH=i)\n",
    "\n",
    "i = 4\n",
    "month4_2014 = data_2014[np.logical_and(data_2014['WEEK'] >= (4 * i - 3), data_2014['WEEK'] <= (4 * i))].groupby(['REGION']).sum().drop(['YEAR', 'WEEK'], axis=1).assign(MONTH=i)\n",
    "\n",
    "i = 5\n",
    "month5_2014 = data_2014[np.logical_and(data_2014['WEEK'] >= (4 * i - 3), data_2014['WEEK'] <= (4 * i))].groupby(['REGION']).sum().drop(['YEAR', 'WEEK'], axis=1).assign(MONTH=i)\n",
    "\n",
    "i = 6\n",
    "month6_2014 = data_2014[np.logical_and(data_2014['WEEK'] >= (4 * i - 3), data_2014['WEEK'] <= (4 * i))].groupby(['REGION']).sum().drop(['YEAR', 'WEEK'], axis=1).assign(MONTH=i)\n",
    "\n",
    "i = 7\n",
    "month7_2014 = data_2014[np.logical_and(data_2014['WEEK'] >= (4 * i - 3), data_2014['WEEK'] <= (4 * i))].groupby(['REGION']).sum().drop(['YEAR', 'WEEK'], axis=1).assign(MONTH=i)\n",
    "\n",
    "i = 8\n",
    "month8_2014 = data_2014[np.logical_and(data_2014['WEEK'] >= (4 * i - 3), data_2014['WEEK'] <= (4 * i))].groupby(['REGION']).sum().drop(['YEAR', 'WEEK'], axis=1).assign(MONTH=i)\n",
    "\n",
    "i = 9\n",
    "month9_2014 = data_2014[np.logical_and(data_2014['WEEK'] >= (4 * i - 3), data_2014['WEEK'] <= (4 * i))].groupby(['REGION']).sum().drop(['YEAR', 'WEEK'], axis=1).assign(MONTH=i)\n",
    "\n",
    "i = 10\n",
    "month10_2014 = data_2014[np.logical_and(data_2014['WEEK'] >= (4 * i - 3), data_2014['WEEK'] <= (4 * i))].groupby(['REGION']).sum().drop(['YEAR', 'WEEK'], axis=1).assign(MONTH=i)\n",
    "\n",
    "i = 11\n",
    "month11_2014 = data_2014[np.logical_and(data_2014['WEEK'] >= (4 * i - 3), data_2014['WEEK'] <= (4 * i))].groupby(['REGION']).sum().drop(['YEAR', 'WEEK'], axis=1).assign(MONTH=i)\n",
    "\n",
    "i = 12\n",
    "month12_2014 = data_2014[np.logical_and(data_2014['WEEK'] >= (4 * i - 3), data_2014['WEEK'] <= (4 * i))].groupby(['REGION']).sum().drop(['YEAR', 'WEEK'], axis=1).assign(MONTH=i)\n",
    "\n"
   ]
  },
  {
   "cell_type": "code",
   "execution_count": 28,
   "metadata": {},
   "outputs": [],
   "source": [
    "frames = [month1_2014, month2_2014, month3_2014, month4_2014, month5_2014, month6_2014, month7_2014, month8_2014, month9_2014, month10_2014, month11_2014, month12_2014]\n",
    "result = pd.concat(frames)\n",
    "result.reset_index(level=0, inplace=True)"
   ]
  },
  {
   "cell_type": "code",
   "execution_count": 29,
   "metadata": {},
   "outputs": [],
   "source": [
    "result2014 = result"
   ]
  },
  {
   "cell_type": "code",
   "execution_count": 30,
   "metadata": {},
   "outputs": [],
   "source": [
    "data_2015 = data[data['YEAR'] == 2015]"
   ]
  },
  {
   "cell_type": "code",
   "execution_count": 31,
   "metadata": {},
   "outputs": [
    {
     "name": "stderr",
     "output_type": "stream",
     "text": [
      "/usr/local/lib/python3.7/site-packages/ipykernel_launcher.py:1: SettingWithCopyWarning: \n",
      "A value is trying to be set on a copy of a slice from a DataFrame.\n",
      "Try using .loc[row_indexer,col_indexer] = value instead\n",
      "\n",
      "See the caveats in the documentation: http://pandas.pydata.org/pandas-docs/stable/indexing.html#indexing-view-versus-copy\n",
      "  \"\"\"Entry point for launching an IPython kernel.\n"
     ]
    }
   ],
   "source": [
    "data_2015['TOTAL PATIENTS'] = data_2015['TOTAL PATIENTS'].astype(int)"
   ]
  },
  {
   "cell_type": "code",
   "execution_count": 32,
   "metadata": {},
   "outputs": [
    {
     "name": "stdout",
     "output_type": "stream",
     "text": [
      "<class 'pandas.core.frame.DataFrame'>\n",
      "Int64Index: 2756 entries, 11556 to 14311\n",
      "Data columns (total 4 columns):\n",
      "REGION            2756 non-null object\n",
      "YEAR              2756 non-null int64\n",
      "WEEK              2756 non-null int64\n",
      "TOTAL PATIENTS    2756 non-null int64\n",
      "dtypes: int64(3), object(1)\n",
      "memory usage: 107.7+ KB\n"
     ]
    }
   ],
   "source": [
    "data_2015.info()"
   ]
  },
  {
   "cell_type": "code",
   "execution_count": 33,
   "metadata": {},
   "outputs": [],
   "source": [
    "i = 1\n",
    "month1_2015 = data_2015[np.logical_and(data_2015['WEEK'] >= (4 * i - 3), data_2015['WEEK'] <= (4 * i))].groupby(['REGION']).sum().drop(['YEAR', 'WEEK'], axis=1).assign(MONTH=i)\n",
    "\n",
    "i = 2\n",
    "month2_2015 = data_2015[np.logical_and(data_2015['WEEK'] >= (4 * i - 3), data_2015['WEEK'] <= (4 * i))].groupby(['REGION']).sum().drop(['YEAR', 'WEEK'], axis=1).assign(MONTH=i)\n",
    "\n",
    "i = 3\n",
    "month3_2015 = data_2015[np.logical_and(data_2015['WEEK'] >= (4 * i - 3), data_2015['WEEK'] <= (4 * i))].groupby(['REGION']).sum().drop(['YEAR', 'WEEK'], axis=1).assign(MONTH=i)\n",
    "\n",
    "i = 4\n",
    "month4_2015 = data_2015[np.logical_and(data_2015['WEEK'] >= (4 * i - 3), data_2015['WEEK'] <= (4 * i))].groupby(['REGION']).sum().drop(['YEAR', 'WEEK'], axis=1).assign(MONTH=i)\n",
    "\n",
    "i = 5\n",
    "month5_2015 = data_2015[np.logical_and(data_2015['WEEK'] >= (4 * i - 3), data_2015['WEEK'] <= (4 * i))].groupby(['REGION']).sum().drop(['YEAR', 'WEEK'], axis=1).assign(MONTH=i)\n",
    "\n",
    "i = 6\n",
    "month6_2015 = data_2015[np.logical_and(data_2015['WEEK'] >= (4 * i - 3), data_2015['WEEK'] <= (4 * i))].groupby(['REGION']).sum().drop(['YEAR', 'WEEK'], axis=1).assign(MONTH=i)\n",
    "\n",
    "i = 7\n",
    "month7_2015 = data_2015[np.logical_and(data_2015['WEEK'] >= (4 * i - 3), data_2015['WEEK'] <= (4 * i))].groupby(['REGION']).sum().drop(['YEAR', 'WEEK'], axis=1).assign(MONTH=i)\n",
    "\n",
    "i = 8\n",
    "month8_2015 = data_2015[np.logical_and(data_2015['WEEK'] >= (4 * i - 3), data_2015['WEEK'] <= (4 * i))].groupby(['REGION']).sum().drop(['YEAR', 'WEEK'], axis=1).assign(MONTH=i)\n",
    "\n",
    "i = 9\n",
    "month9_2015 = data_2015[np.logical_and(data_2015['WEEK'] >= (4 * i - 3), data_2015['WEEK'] <= (4 * i))].groupby(['REGION']).sum().drop(['YEAR', 'WEEK'], axis=1).assign(MONTH=i)\n",
    "\n",
    "i = 10\n",
    "month10_2015 = data_2015[np.logical_and(data_2015['WEEK'] >= (4 * i - 3), data_2015['WEEK'] <= (4 * i))].groupby(['REGION']).sum().drop(['YEAR', 'WEEK'], axis=1).assign(MONTH=i)\n",
    "\n",
    "i = 11\n",
    "month11_2015 = data_2015[np.logical_and(data_2015['WEEK'] >= (4 * i - 3), data_2015['WEEK'] <= (4 * i))].groupby(['REGION']).sum().drop(['YEAR', 'WEEK'], axis=1).assign(MONTH=i)\n",
    "\n",
    "i = 12\n",
    "month12_2015 = data_2015[np.logical_and(data_2015['WEEK'] >= (4 * i - 3), data_2015['WEEK'] <= (4 * i))].groupby(['REGION']).sum().drop(['YEAR', 'WEEK'], axis=1).assign(MONTH=i)\n",
    "\n"
   ]
  },
  {
   "cell_type": "code",
   "execution_count": 34,
   "metadata": {},
   "outputs": [],
   "source": [
    "frames = [month1_2015, month2_2015, month3_2015, month4_2015, month5_2015, month6_2015, month7_2015, month8_2015, month9_2015, month10_2015, month11_2015, month12_2015]\n",
    "result = pd.concat(frames)\n",
    "result.reset_index(level=0, inplace=True)"
   ]
  },
  {
   "cell_type": "code",
   "execution_count": 35,
   "metadata": {},
   "outputs": [],
   "source": [
    "result2015 = result"
   ]
  },
  {
   "cell_type": "code",
   "execution_count": 36,
   "metadata": {},
   "outputs": [],
   "source": [
    "data_2016 = data[data['YEAR'] == 2016]"
   ]
  },
  {
   "cell_type": "code",
   "execution_count": 37,
   "metadata": {},
   "outputs": [
    {
     "name": "stderr",
     "output_type": "stream",
     "text": [
      "/usr/local/lib/python3.7/site-packages/ipykernel_launcher.py:1: SettingWithCopyWarning: \n",
      "A value is trying to be set on a copy of a slice from a DataFrame.\n",
      "Try using .loc[row_indexer,col_indexer] = value instead\n",
      "\n",
      "See the caveats in the documentation: http://pandas.pydata.org/pandas-docs/stable/indexing.html#indexing-view-versus-copy\n",
      "  \"\"\"Entry point for launching an IPython kernel.\n"
     ]
    }
   ],
   "source": [
    "data_2016['TOTAL PATIENTS'] = data_2016['TOTAL PATIENTS'].astype(int)"
   ]
  },
  {
   "cell_type": "code",
   "execution_count": 38,
   "metadata": {},
   "outputs": [
    {
     "name": "stdout",
     "output_type": "stream",
     "text": [
      "<class 'pandas.core.frame.DataFrame'>\n",
      "Int64Index: 2756 entries, 14312 to 17067\n",
      "Data columns (total 4 columns):\n",
      "REGION            2756 non-null object\n",
      "YEAR              2756 non-null int64\n",
      "WEEK              2756 non-null int64\n",
      "TOTAL PATIENTS    2756 non-null int64\n",
      "dtypes: int64(3), object(1)\n",
      "memory usage: 107.7+ KB\n"
     ]
    }
   ],
   "source": [
    "data_2016.info()"
   ]
  },
  {
   "cell_type": "code",
   "execution_count": 39,
   "metadata": {},
   "outputs": [],
   "source": [
    "i = 1\n",
    "month1_2016 = data_2016[np.logical_and(data_2016['WEEK'] >= (4 * i - 3), data_2016['WEEK'] <= (4 * i))].groupby(['REGION']).sum().drop(['YEAR', 'WEEK'], axis=1).assign(MONTH=i)\n",
    "\n",
    "i = 2\n",
    "month2_2016 = data_2016[np.logical_and(data_2016['WEEK'] >= (4 * i - 3), data_2016['WEEK'] <= (4 * i))].groupby(['REGION']).sum().drop(['YEAR', 'WEEK'], axis=1).assign(MONTH=i)\n",
    "\n",
    "i = 3\n",
    "month3_2016 = data_2016[np.logical_and(data_2016['WEEK'] >= (4 * i - 3), data_2016['WEEK'] <= (4 * i))].groupby(['REGION']).sum().drop(['YEAR', 'WEEK'], axis=1).assign(MONTH=i)\n",
    "\n",
    "i = 4\n",
    "month4_2016 = data_2016[np.logical_and(data_2016['WEEK'] >= (4 * i - 3), data_2016['WEEK'] <= (4 * i))].groupby(['REGION']).sum().drop(['YEAR', 'WEEK'], axis=1).assign(MONTH=i)\n",
    "\n",
    "i = 5\n",
    "month5_2016 = data_2016[np.logical_and(data_2016['WEEK'] >= (4 * i - 3), data_2016['WEEK'] <= (4 * i))].groupby(['REGION']).sum().drop(['YEAR', 'WEEK'], axis=1).assign(MONTH=i)\n",
    "\n",
    "i = 6\n",
    "month6_2016 = data_2016[np.logical_and(data_2016['WEEK'] >= (4 * i - 3), data_2016['WEEK'] <= (4 * i))].groupby(['REGION']).sum().drop(['YEAR', 'WEEK'], axis=1).assign(MONTH=i)\n",
    "\n",
    "i = 7\n",
    "month7_2016 = data_2016[np.logical_and(data_2016['WEEK'] >= (4 * i - 3), data_2016['WEEK'] <= (4 * i))].groupby(['REGION']).sum().drop(['YEAR', 'WEEK'], axis=1).assign(MONTH=i)\n",
    "\n",
    "i = 8\n",
    "month8_2016 = data_2016[np.logical_and(data_2016['WEEK'] >= (4 * i - 3), data_2016['WEEK'] <= (4 * i))].groupby(['REGION']).sum().drop(['YEAR', 'WEEK'], axis=1).assign(MONTH=i)\n",
    "\n",
    "i = 9\n",
    "month9_2016 = data_2016[np.logical_and(data_2016['WEEK'] >= (4 * i - 3), data_2016['WEEK'] <= (4 * i))].groupby(['REGION']).sum().drop(['YEAR', 'WEEK'], axis=1).assign(MONTH=i)\n",
    "\n",
    "i = 10\n",
    "month10_2016 = data_2016[np.logical_and(data_2016['WEEK'] >= (4 * i - 3), data_2016['WEEK'] <= (4 * i))].groupby(['REGION']).sum().drop(['YEAR', 'WEEK'], axis=1).assign(MONTH=i)\n",
    "\n",
    "i = 11\n",
    "month11_2016 = data_2016[np.logical_and(data_2016['WEEK'] >= (4 * i - 3), data_2016['WEEK'] <= (4 * i))].groupby(['REGION']).sum().drop(['YEAR', 'WEEK'], axis=1).assign(MONTH=i)\n",
    "\n",
    "i = 12\n",
    "month12_2016 = data_2016[np.logical_and(data_2016['WEEK'] >= (4 * i - 3), data_2016['WEEK'] <= (4 * i))].groupby(['REGION']).sum().drop(['YEAR', 'WEEK'], axis=1).assign(MONTH=i)\n",
    "\n"
   ]
  },
  {
   "cell_type": "code",
   "execution_count": 40,
   "metadata": {},
   "outputs": [],
   "source": [
    "frames = [month1_2016, month2_2016, month3_2016, month4_2016, month5_2016, month6_2016, month7_2016, month8_2016, month9_2016, month10_2016, month11_2016, month12_2016]\n",
    "result = pd.concat(frames)\n",
    "result.reset_index(level=0, inplace=True)"
   ]
  },
  {
   "cell_type": "code",
   "execution_count": 41,
   "metadata": {},
   "outputs": [],
   "source": [
    "result2016 = result"
   ]
  },
  {
   "cell_type": "code",
   "execution_count": 42,
   "metadata": {},
   "outputs": [],
   "source": [
    "data_2017 = data[data['YEAR'] == 2017]"
   ]
  },
  {
   "cell_type": "code",
   "execution_count": 43,
   "metadata": {},
   "outputs": [
    {
     "name": "stdout",
     "output_type": "stream",
     "text": [
      "<class 'pandas.core.frame.DataFrame'>\n",
      "Int64Index: 2756 entries, 17068 to 19823\n",
      "Data columns (total 4 columns):\n",
      "REGION            2756 non-null object\n",
      "YEAR              2756 non-null int64\n",
      "WEEK              2756 non-null int64\n",
      "TOTAL PATIENTS    2756 non-null int64\n",
      "dtypes: int64(3), object(1)\n",
      "memory usage: 107.7+ KB\n"
     ]
    },
    {
     "name": "stderr",
     "output_type": "stream",
     "text": [
      "/usr/local/lib/python3.7/site-packages/ipykernel_launcher.py:1: SettingWithCopyWarning: \n",
      "A value is trying to be set on a copy of a slice from a DataFrame.\n",
      "Try using .loc[row_indexer,col_indexer] = value instead\n",
      "\n",
      "See the caveats in the documentation: http://pandas.pydata.org/pandas-docs/stable/indexing.html#indexing-view-versus-copy\n",
      "  \"\"\"Entry point for launching an IPython kernel.\n"
     ]
    }
   ],
   "source": [
    "data_2017['TOTAL PATIENTS'] = data_2017['TOTAL PATIENTS'].astype(int)\n",
    "data_2017.info()"
   ]
  },
  {
   "cell_type": "code",
   "execution_count": 44,
   "metadata": {},
   "outputs": [],
   "source": [
    "i = 1\n",
    "month1_2017 = data_2017[np.logical_and(data_2017['WEEK'] >= (4 * i - 3), data_2017['WEEK'] <= (4 * i))].groupby(['REGION']).sum().drop(['YEAR', 'WEEK'], axis=1).assign(MONTH=i)\n",
    "\n",
    "i = 2\n",
    "month2_2017 = data_2017[np.logical_and(data_2017['WEEK'] >= (4 * i - 3), data_2017['WEEK'] <= (4 * i))].groupby(['REGION']).sum().drop(['YEAR', 'WEEK'], axis=1).assign(MONTH=i)\n",
    "\n",
    "i = 3\n",
    "month3_2017 = data_2017[np.logical_and(data_2017['WEEK'] >= (4 * i - 3), data_2017['WEEK'] <= (4 * i))].groupby(['REGION']).sum().drop(['YEAR', 'WEEK'], axis=1).assign(MONTH=i)\n",
    "\n",
    "i = 4\n",
    "month4_2017 = data_2017[np.logical_and(data_2017['WEEK'] >= (4 * i - 3), data_2017['WEEK'] <= (4 * i))].groupby(['REGION']).sum().drop(['YEAR', 'WEEK'], axis=1).assign(MONTH=i)\n",
    "\n",
    "i = 5\n",
    "month5_2017 = data_2017[np.logical_and(data_2017['WEEK'] >= (4 * i - 3), data_2017['WEEK'] <= (4 * i))].groupby(['REGION']).sum().drop(['YEAR', 'WEEK'], axis=1).assign(MONTH=i)\n",
    "\n",
    "i = 6\n",
    "month6_2017 = data_2017[np.logical_and(data_2017['WEEK'] >= (4 * i - 3), data_2017['WEEK'] <= (4 * i))].groupby(['REGION']).sum().drop(['YEAR', 'WEEK'], axis=1).assign(MONTH=i)\n",
    "\n",
    "i = 7\n",
    "month7_2017 = data_2017[np.logical_and(data_2017['WEEK'] >= (4 * i - 3), data_2017['WEEK'] <= (4 * i))].groupby(['REGION']).sum().drop(['YEAR', 'WEEK'], axis=1).assign(MONTH=i)\n",
    "\n",
    "i = 8\n",
    "month8_2017 = data_2017[np.logical_and(data_2017['WEEK'] >= (4 * i - 3), data_2017['WEEK'] <= (4 * i))].groupby(['REGION']).sum().drop(['YEAR', 'WEEK'], axis=1).assign(MONTH=i)\n",
    "\n",
    "i = 9\n",
    "month9_2017 = data_2017[np.logical_and(data_2017['WEEK'] >= (4 * i - 3), data_2017['WEEK'] <= (4 * i))].groupby(['REGION']).sum().drop(['YEAR', 'WEEK'], axis=1).assign(MONTH=i)\n",
    "\n",
    "i = 10\n",
    "month10_2017 = data_2017[np.logical_and(data_2017['WEEK'] >= (4 * i - 3), data_2017['WEEK'] <= (4 * i))].groupby(['REGION']).sum().drop(['YEAR', 'WEEK'], axis=1).assign(MONTH=i)\n",
    "\n",
    "i = 11\n",
    "month11_2017 = data_2017[np.logical_and(data_2017['WEEK'] >= (4 * i - 3), data_2017['WEEK'] <= (4 * i))].groupby(['REGION']).sum().drop(['YEAR', 'WEEK'], axis=1).assign(MONTH=i)\n",
    "\n",
    "i = 12\n",
    "month12_2017 = data_2017[np.logical_and(data_2017['WEEK'] >= (4 * i - 3), data_2017['WEEK'] <= (4 * i))].groupby(['REGION']).sum().drop(['YEAR', 'WEEK'], axis=1).assign(MONTH=i)\n",
    "\n"
   ]
  },
  {
   "cell_type": "code",
   "execution_count": 45,
   "metadata": {},
   "outputs": [],
   "source": [
    "frames = [month1_2017, month2_2017, month3_2017, month4_2017, month5_2017, month6_2017, month7_2017, month8_2017, month9_2017, month10_2017, month11_2017, month12_2017]\n",
    "result = pd.concat(frames)\n",
    "result.reset_index(level=0, inplace=True)"
   ]
  },
  {
   "cell_type": "code",
   "execution_count": 46,
   "metadata": {},
   "outputs": [],
   "source": [
    "result2017 = result"
   ]
  },
  {
   "cell_type": "code",
   "execution_count": 47,
   "metadata": {},
   "outputs": [],
   "source": [
    "frames = [result2013, result2014, result2015, result2016, result2017]\n",
    "result = pd.concat(frames)\n"
   ]
  },
  {
   "cell_type": "code",
   "execution_count": 49,
   "metadata": {},
   "outputs": [
    {
     "data": {
      "text/html": [
       "<div>\n",
       "<style scoped>\n",
       "    .dataframe tbody tr th:only-of-type {\n",
       "        vertical-align: middle;\n",
       "    }\n",
       "\n",
       "    .dataframe tbody tr th {\n",
       "        vertical-align: top;\n",
       "    }\n",
       "\n",
       "    .dataframe thead th {\n",
       "        text-align: right;\n",
       "    }\n",
       "</style>\n",
       "<table border=\"1\" class=\"dataframe\">\n",
       "  <thead>\n",
       "    <tr style=\"text-align: right;\">\n",
       "      <th></th>\n",
       "      <th>REGION</th>\n",
       "      <th>TOTAL PATIENTS</th>\n",
       "      <th>MONTH</th>\n",
       "    </tr>\n",
       "  </thead>\n",
       "  <tbody>\n",
       "    <tr>\n",
       "      <th>0</th>\n",
       "      <td>Alabama</td>\n",
       "      <td>51771</td>\n",
       "      <td>1</td>\n",
       "    </tr>\n",
       "    <tr>\n",
       "      <th>1</th>\n",
       "      <td>Alaska</td>\n",
       "      <td>8336</td>\n",
       "      <td>1</td>\n",
       "    </tr>\n",
       "    <tr>\n",
       "      <th>2</th>\n",
       "      <td>Arizona</td>\n",
       "      <td>84429</td>\n",
       "      <td>1</td>\n",
       "    </tr>\n",
       "    <tr>\n",
       "      <th>3</th>\n",
       "      <td>Arkansas</td>\n",
       "      <td>18009</td>\n",
       "      <td>1</td>\n",
       "    </tr>\n",
       "    <tr>\n",
       "      <th>4</th>\n",
       "      <td>California</td>\n",
       "      <td>126977</td>\n",
       "      <td>1</td>\n",
       "    </tr>\n",
       "    <tr>\n",
       "      <th>5</th>\n",
       "      <td>Colorado</td>\n",
       "      <td>87979</td>\n",
       "      <td>1</td>\n",
       "    </tr>\n",
       "    <tr>\n",
       "      <th>6</th>\n",
       "      <td>Connecticut</td>\n",
       "      <td>16335</td>\n",
       "      <td>1</td>\n",
       "    </tr>\n",
       "    <tr>\n",
       "      <th>7</th>\n",
       "      <td>Delaware</td>\n",
       "      <td>11022</td>\n",
       "      <td>1</td>\n",
       "    </tr>\n",
       "    <tr>\n",
       "      <th>8</th>\n",
       "      <td>District of Columbia</td>\n",
       "      <td>6937</td>\n",
       "      <td>1</td>\n",
       "    </tr>\n",
       "    <tr>\n",
       "      <th>9</th>\n",
       "      <td>Georgia</td>\n",
       "      <td>101404</td>\n",
       "      <td>1</td>\n",
       "    </tr>\n",
       "    <tr>\n",
       "      <th>10</th>\n",
       "      <td>Hawaii</td>\n",
       "      <td>50381</td>\n",
       "      <td>1</td>\n",
       "    </tr>\n",
       "    <tr>\n",
       "      <th>11</th>\n",
       "      <td>Idaho</td>\n",
       "      <td>18492</td>\n",
       "      <td>1</td>\n",
       "    </tr>\n",
       "    <tr>\n",
       "      <th>12</th>\n",
       "      <td>Illinois</td>\n",
       "      <td>172178</td>\n",
       "      <td>1</td>\n",
       "    </tr>\n",
       "    <tr>\n",
       "      <th>13</th>\n",
       "      <td>Indiana</td>\n",
       "      <td>40851</td>\n",
       "      <td>1</td>\n",
       "    </tr>\n",
       "    <tr>\n",
       "      <th>14</th>\n",
       "      <td>Iowa</td>\n",
       "      <td>11783</td>\n",
       "      <td>1</td>\n",
       "    </tr>\n",
       "    <tr>\n",
       "      <th>15</th>\n",
       "      <td>Kansas</td>\n",
       "      <td>32276</td>\n",
       "      <td>1</td>\n",
       "    </tr>\n",
       "    <tr>\n",
       "      <th>16</th>\n",
       "      <td>Kentucky</td>\n",
       "      <td>83244</td>\n",
       "      <td>1</td>\n",
       "    </tr>\n",
       "    <tr>\n",
       "      <th>17</th>\n",
       "      <td>Louisiana</td>\n",
       "      <td>122253</td>\n",
       "      <td>1</td>\n",
       "    </tr>\n",
       "    <tr>\n",
       "      <th>18</th>\n",
       "      <td>Maine</td>\n",
       "      <td>26136</td>\n",
       "      <td>1</td>\n",
       "    </tr>\n",
       "    <tr>\n",
       "      <th>19</th>\n",
       "      <td>Maryland</td>\n",
       "      <td>32735</td>\n",
       "      <td>1</td>\n",
       "    </tr>\n",
       "    <tr>\n",
       "      <th>20</th>\n",
       "      <td>Massachusetts</td>\n",
       "      <td>109599</td>\n",
       "      <td>1</td>\n",
       "    </tr>\n",
       "    <tr>\n",
       "      <th>21</th>\n",
       "      <td>Michigan</td>\n",
       "      <td>63079</td>\n",
       "      <td>1</td>\n",
       "    </tr>\n",
       "    <tr>\n",
       "      <th>22</th>\n",
       "      <td>Minnesota</td>\n",
       "      <td>17771</td>\n",
       "      <td>1</td>\n",
       "    </tr>\n",
       "    <tr>\n",
       "      <th>23</th>\n",
       "      <td>Mississippi</td>\n",
       "      <td>68096</td>\n",
       "      <td>1</td>\n",
       "    </tr>\n",
       "    <tr>\n",
       "      <th>24</th>\n",
       "      <td>Missouri</td>\n",
       "      <td>31848</td>\n",
       "      <td>1</td>\n",
       "    </tr>\n",
       "    <tr>\n",
       "      <th>25</th>\n",
       "      <td>Montana</td>\n",
       "      <td>9291</td>\n",
       "      <td>1</td>\n",
       "    </tr>\n",
       "    <tr>\n",
       "      <th>26</th>\n",
       "      <td>Nebraska</td>\n",
       "      <td>16693</td>\n",
       "      <td>1</td>\n",
       "    </tr>\n",
       "    <tr>\n",
       "      <th>27</th>\n",
       "      <td>Nevada</td>\n",
       "      <td>61410</td>\n",
       "      <td>1</td>\n",
       "    </tr>\n",
       "    <tr>\n",
       "      <th>28</th>\n",
       "      <td>New Hampshire</td>\n",
       "      <td>17829</td>\n",
       "      <td>1</td>\n",
       "    </tr>\n",
       "    <tr>\n",
       "      <th>29</th>\n",
       "      <td>New Jersey</td>\n",
       "      <td>26701</td>\n",
       "      <td>1</td>\n",
       "    </tr>\n",
       "    <tr>\n",
       "      <th>...</th>\n",
       "      <td>...</td>\n",
       "      <td>...</td>\n",
       "      <td>...</td>\n",
       "    </tr>\n",
       "    <tr>\n",
       "      <th>606</th>\n",
       "      <td>Mississippi</td>\n",
       "      <td>76877</td>\n",
       "      <td>12</td>\n",
       "    </tr>\n",
       "    <tr>\n",
       "      <th>607</th>\n",
       "      <td>Missouri</td>\n",
       "      <td>26305</td>\n",
       "      <td>12</td>\n",
       "    </tr>\n",
       "    <tr>\n",
       "      <th>608</th>\n",
       "      <td>Montana</td>\n",
       "      <td>12572</td>\n",
       "      <td>12</td>\n",
       "    </tr>\n",
       "    <tr>\n",
       "      <th>609</th>\n",
       "      <td>Nebraska</td>\n",
       "      <td>32787</td>\n",
       "      <td>12</td>\n",
       "    </tr>\n",
       "    <tr>\n",
       "      <th>610</th>\n",
       "      <td>Nevada</td>\n",
       "      <td>73518</td>\n",
       "      <td>12</td>\n",
       "    </tr>\n",
       "    <tr>\n",
       "      <th>611</th>\n",
       "      <td>New Hampshire</td>\n",
       "      <td>12243</td>\n",
       "      <td>12</td>\n",
       "    </tr>\n",
       "    <tr>\n",
       "      <th>612</th>\n",
       "      <td>New Jersey</td>\n",
       "      <td>102067</td>\n",
       "      <td>12</td>\n",
       "    </tr>\n",
       "    <tr>\n",
       "      <th>613</th>\n",
       "      <td>New Mexico</td>\n",
       "      <td>81882</td>\n",
       "      <td>12</td>\n",
       "    </tr>\n",
       "    <tr>\n",
       "      <th>614</th>\n",
       "      <td>New York</td>\n",
       "      <td>52541</td>\n",
       "      <td>12</td>\n",
       "    </tr>\n",
       "    <tr>\n",
       "      <th>615</th>\n",
       "      <td>New York City</td>\n",
       "      <td>403858</td>\n",
       "      <td>12</td>\n",
       "    </tr>\n",
       "    <tr>\n",
       "      <th>616</th>\n",
       "      <td>North Carolina</td>\n",
       "      <td>65771</td>\n",
       "      <td>12</td>\n",
       "    </tr>\n",
       "    <tr>\n",
       "      <th>617</th>\n",
       "      <td>North Dakota</td>\n",
       "      <td>5350</td>\n",
       "      <td>12</td>\n",
       "    </tr>\n",
       "    <tr>\n",
       "      <th>618</th>\n",
       "      <td>Ohio</td>\n",
       "      <td>80100</td>\n",
       "      <td>12</td>\n",
       "    </tr>\n",
       "    <tr>\n",
       "      <th>619</th>\n",
       "      <td>Oklahoma</td>\n",
       "      <td>34455</td>\n",
       "      <td>12</td>\n",
       "    </tr>\n",
       "    <tr>\n",
       "      <th>620</th>\n",
       "      <td>Oregon</td>\n",
       "      <td>144726</td>\n",
       "      <td>12</td>\n",
       "    </tr>\n",
       "    <tr>\n",
       "      <th>621</th>\n",
       "      <td>Pennsylvania</td>\n",
       "      <td>246865</td>\n",
       "      <td>12</td>\n",
       "    </tr>\n",
       "    <tr>\n",
       "      <th>622</th>\n",
       "      <td>Puerto Rico</td>\n",
       "      <td>9442</td>\n",
       "      <td>12</td>\n",
       "    </tr>\n",
       "    <tr>\n",
       "      <th>623</th>\n",
       "      <td>Rhode Island</td>\n",
       "      <td>21617</td>\n",
       "      <td>12</td>\n",
       "    </tr>\n",
       "    <tr>\n",
       "      <th>624</th>\n",
       "      <td>South Carolina</td>\n",
       "      <td>24823</td>\n",
       "      <td>12</td>\n",
       "    </tr>\n",
       "    <tr>\n",
       "      <th>625</th>\n",
       "      <td>South Dakota</td>\n",
       "      <td>41500</td>\n",
       "      <td>12</td>\n",
       "    </tr>\n",
       "    <tr>\n",
       "      <th>626</th>\n",
       "      <td>Tennessee</td>\n",
       "      <td>36626</td>\n",
       "      <td>12</td>\n",
       "    </tr>\n",
       "    <tr>\n",
       "      <th>627</th>\n",
       "      <td>Texas</td>\n",
       "      <td>112719</td>\n",
       "      <td>12</td>\n",
       "    </tr>\n",
       "    <tr>\n",
       "      <th>628</th>\n",
       "      <td>Utah</td>\n",
       "      <td>85744</td>\n",
       "      <td>12</td>\n",
       "    </tr>\n",
       "    <tr>\n",
       "      <th>629</th>\n",
       "      <td>Vermont</td>\n",
       "      <td>11009</td>\n",
       "      <td>12</td>\n",
       "    </tr>\n",
       "    <tr>\n",
       "      <th>630</th>\n",
       "      <td>Virgin Islands</td>\n",
       "      <td>2977</td>\n",
       "      <td>12</td>\n",
       "    </tr>\n",
       "    <tr>\n",
       "      <th>631</th>\n",
       "      <td>Virginia</td>\n",
       "      <td>358130</td>\n",
       "      <td>12</td>\n",
       "    </tr>\n",
       "    <tr>\n",
       "      <th>632</th>\n",
       "      <td>Washington</td>\n",
       "      <td>32645</td>\n",
       "      <td>12</td>\n",
       "    </tr>\n",
       "    <tr>\n",
       "      <th>633</th>\n",
       "      <td>West Virginia</td>\n",
       "      <td>48941</td>\n",
       "      <td>12</td>\n",
       "    </tr>\n",
       "    <tr>\n",
       "      <th>634</th>\n",
       "      <td>Wisconsin</td>\n",
       "      <td>21793</td>\n",
       "      <td>12</td>\n",
       "    </tr>\n",
       "    <tr>\n",
       "      <th>635</th>\n",
       "      <td>Wyoming</td>\n",
       "      <td>16688</td>\n",
       "      <td>12</td>\n",
       "    </tr>\n",
       "  </tbody>\n",
       "</table>\n",
       "<p>3171 rows × 3 columns</p>\n",
       "</div>"
      ],
      "text/plain": [
       "                   REGION  TOTAL PATIENTS  MONTH\n",
       "0                 Alabama           51771      1\n",
       "1                  Alaska            8336      1\n",
       "2                 Arizona           84429      1\n",
       "3                Arkansas           18009      1\n",
       "4              California          126977      1\n",
       "5                Colorado           87979      1\n",
       "6             Connecticut           16335      1\n",
       "7                Delaware           11022      1\n",
       "8    District of Columbia            6937      1\n",
       "9                 Georgia          101404      1\n",
       "10                 Hawaii           50381      1\n",
       "11                  Idaho           18492      1\n",
       "12               Illinois          172178      1\n",
       "13                Indiana           40851      1\n",
       "14                   Iowa           11783      1\n",
       "15                 Kansas           32276      1\n",
       "16               Kentucky           83244      1\n",
       "17              Louisiana          122253      1\n",
       "18                  Maine           26136      1\n",
       "19               Maryland           32735      1\n",
       "20          Massachusetts          109599      1\n",
       "21               Michigan           63079      1\n",
       "22              Minnesota           17771      1\n",
       "23            Mississippi           68096      1\n",
       "24               Missouri           31848      1\n",
       "25                Montana            9291      1\n",
       "26               Nebraska           16693      1\n",
       "27                 Nevada           61410      1\n",
       "28          New Hampshire           17829      1\n",
       "29             New Jersey           26701      1\n",
       "..                    ...             ...    ...\n",
       "606           Mississippi           76877     12\n",
       "607              Missouri           26305     12\n",
       "608               Montana           12572     12\n",
       "609              Nebraska           32787     12\n",
       "610                Nevada           73518     12\n",
       "611         New Hampshire           12243     12\n",
       "612            New Jersey          102067     12\n",
       "613            New Mexico           81882     12\n",
       "614              New York           52541     12\n",
       "615         New York City          403858     12\n",
       "616        North Carolina           65771     12\n",
       "617          North Dakota            5350     12\n",
       "618                  Ohio           80100     12\n",
       "619              Oklahoma           34455     12\n",
       "620                Oregon          144726     12\n",
       "621          Pennsylvania          246865     12\n",
       "622           Puerto Rico            9442     12\n",
       "623          Rhode Island           21617     12\n",
       "624        South Carolina           24823     12\n",
       "625          South Dakota           41500     12\n",
       "626             Tennessee           36626     12\n",
       "627                 Texas          112719     12\n",
       "628                  Utah           85744     12\n",
       "629               Vermont           11009     12\n",
       "630        Virgin Islands            2977     12\n",
       "631              Virginia          358130     12\n",
       "632            Washington           32645     12\n",
       "633         West Virginia           48941     12\n",
       "634             Wisconsin           21793     12\n",
       "635               Wyoming           16688     12\n",
       "\n",
       "[3171 rows x 3 columns]"
      ]
     },
     "execution_count": 49,
     "metadata": {},
     "output_type": "execute_result"
    }
   ],
   "source": [
    "result"
   ]
  },
  {
   "cell_type": "code",
   "execution_count": 48,
   "metadata": {},
   "outputs": [],
   "source": [
    "np.savetxt('health_data.txt', result, fmt=\"%s, %d, %d\") "
   ]
  }
 ],
 "metadata": {
  "kernelspec": {
   "display_name": "Python 3",
   "language": "python",
   "name": "python3"
  },
  "language_info": {
   "codemirror_mode": {
    "name": "ipython",
    "version": 3
   },
   "file_extension": ".py",
   "mimetype": "text/x-python",
   "name": "python",
   "nbconvert_exporter": "python",
   "pygments_lexer": "ipython3",
   "version": "3.7.0"
  }
 },
 "nbformat": 4,
 "nbformat_minor": 2
}
